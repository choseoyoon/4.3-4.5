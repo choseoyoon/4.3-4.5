{
 "cells": [
  {
   "cell_type": "markdown",
   "id": "8da339fe",
   "metadata": {},
   "source": [
    "수치 미분\n",
    "- 경사법에서의 기울기(경사): 나아갈 방향의 기준값\n",
    "- 미분: 한순간의 변화량을 표시한 것"
   ]
  },
  {
   "cell_type": "code",
   "execution_count": null,
   "id": "bd841b88",
   "metadata": {},
   "outputs": [],
   "source": [
    "# 미분 구현의 나쁜 예시\n",
    "\n",
    "def numerical_diff(f, x):    # 수치 미분에서 따옴\n",
    "    h = 1e-50\n",
    "    return (f(x + h) - f(x)) / h\n",
    "\n",
    "# 이 방식은 반올림 오차를 일으킨다 -> 작은 값이 생략되어 최종 계산 결과의 오차 발생"
   ]
  },
  {
   "cell_type": "code",
   "execution_count": null,
   "id": "aac1964d",
   "metadata": {},
   "outputs": [],
   "source": [
    "# 파이썬에서의 반올림 오차\n",
    "\n",
    "np.float32(1e-50)    # 32비트 부동소수점\n",
    "\n",
    "# 값이 0.0 이 되어 올바르게 표현 불가능"
   ]
  },
  {
   "cell_type": "markdown",
   "id": "11a97227",
   "metadata": {},
   "source": [
    "수치 미분에는 오차가 포함됩니다.\n",
    "중심 차분(중앙 처분): x를 중심으로 그 전후의 차분을 계산한다는 의미"
   ]
  },
  {
   "cell_type": "code",
   "execution_count": null,
   "id": "95f33296",
   "metadata": {},
   "outputs": [],
   "source": [
    "# 두 개선점을 적용해 수치 미분 구현\n",
    "\n",
    "def numerical_diff(f, x):\n",
    "    h = 1e-4                             # 0.0001 \n",
    "    return (f(x+h) ー f(x-h)) / (2*h)"
   ]
  },
  {
   "cell_type": "code",
   "execution_count": null,
   "id": "3b8eb5b0",
   "metadata": {},
   "outputs": [],
   "source": [
    "# 2차 함수\n",
    "\n",
    "def function_1(x):\n",
    "    return 0.01*x**2 + 0.1*x "
   ]
  },
  {
   "cell_type": "code",
   "execution_count": null,
   "id": "28514b87",
   "metadata": {},
   "outputs": [],
   "source": [
    "# 함수 그리기\n",
    "\n",
    "import numpy as np \n",
    "import matplotlib.pylab as plt \n",
    "\n",
    "x = np.arange(0.0, 20.0, 0.1)    # 0에서 20까지 0.1 간격의 배열 x를 만든다(20은 미포함)\n",
    "y = function_1(x) \n",
    "plt.xlabel(\"x\") \n",
    "plt.ylabel(\"f(x)\") \n",
    "plt.plot(x, y) \n",
    "plt.show()\n",
    "\n",
    "# 미분 계산\n",
    "numerical_diff(function_1, 5)\n",
    "numerical_diff(function_1, 10)"
   ]
  },
  {
   "cell_type": "code",
   "execution_count": null,
   "id": "bfb4756a",
   "metadata": {},
   "outputs": [],
   "source": [
    "# 편미분 파이썬 구현\n",
    "\n",
    "def function_2(x):\n",
    "    return x[0]**2 + x[1]**2    # 또는 return np.sum(x**2)"
   ]
  },
  {
   "cell_type": "code",
   "execution_count": null,
   "id": "45f2b91a",
   "metadata": {},
   "outputs": [],
   "source": [
    "# 편미분 문제1\n",
    "\n",
    "def function_tmp1(x0):\n",
    "    return x0*x0 + 4.0**2.0\n",
    "\n",
    "numerical_diff(function_tmp1, 3.0)"
   ]
  },
  {
   "cell_type": "code",
   "execution_count": null,
   "id": "d32b4e29",
   "metadata": {},
   "outputs": [],
   "source": [
    "# 편미분 문제2\n",
    "\n",
    "def function_tmp2(x1):\n",
    "    return 3.0**2.0 + x1*x1\n",
    "\n",
    "numerical_diff(function_tmp2, 4.0)"
   ]
  },
  {
   "cell_type": "code",
   "execution_count": null,
   "id": "ea728032",
   "metadata": {},
   "outputs": [],
   "source": [
    "# 기울기: 모든 변수의 편미분을 백터로 정리한 것\n",
    "# 기울기 구하기\n",
    "\n",
    "def numerical_gradient(f, x):\n",
    "    h = 1e-4 # 0.0001 \n",
    "    grad = np.zeros_like(x) # x와 형상이 같은 배열을 생성 \n",
    "    \n",
    "    for idx in range(x.size):\n",
    "        tmp_val = x[idx] \n",
    "        # f(x+h) 계산\n",
    "        \n",
    "        x[ idx] = tmp_val + h \n",
    "        fxh1 = f(x) \n",
    "        # f(x-h) 계산 \n",
    "        \n",
    "        x[idx] = tmp_val - h \n",
    "        fxh2 = f(x) \n",
    "        \n",
    "        grad[idx] = (fxh1 - fxh2) / (2*h)\n",
    "        x[idx] = tmp_val # 값 복원 \n",
    "        \n",
    "    return grad\n",
    "\n",
    "\n",
    "# 세 점 (3, 4), (0, 2), (3, 0)에서의 기울기를 구하기\n",
    "\n",
    "numerical_gradient(function_2, np.array([3.0, 4.0]))\n",
    "numerical_gradient(function_2, np.array([0.0, 2.0]))\n",
    "numerical_gradient(function_2, np.array([3.0, 0.0]))"
   ]
  },
  {
   "cell_type": "markdown",
   "id": "6b7385b8",
   "metadata": {},
   "source": [
    "- 기울기 그림은 p.129의 그림처럼 방향을 가진 벡터(화살표)로 그려진다.\n",
    "- 그림에서의 기울기는 가장 낮은 장소를 가리키지만, 실제는 반드시 그렇다고는 할 수 없다.\n",
    "- 기울기 가 가리키는 쪽은 각 장소에서 함수의 출력 값을 가장 크게 줄이는 방향입니다."
   ]
  },
  {
   "cell_type": "markdown",
   "id": "f429de6c",
   "metadata": {},
   "source": [
    "경사법(경사 하강법)\n",
    ": 매개변수 공간이 광대하여 어디가 최솟값이 되는 곳인지를 짐작할 수 없을 때 \n",
    "  기울기를 잘 이용해 함수의 최솟값(또는 가능한 한 작은 값)을 찾으려는 것"
   ]
  },
  {
   "cell_type": "code",
   "execution_count": null,
   "id": "83501c26",
   "metadata": {},
   "outputs": [],
   "source": [
    "# 경사 하강법 구현\n",
    "\n",
    "def gradient_descent(f, init_x, lr=0.01, step_num=100):\n",
    "    x = init_x\n",
    "    \n",
    "    for i in range(step_num)\n",
    "        grad = numerical_gradient(f, x)\n",
    "        x -= lr * grad\n",
    "    return x"
   ]
  },
  {
   "cell_type": "code",
   "execution_count": null,
   "id": "f1e5d014",
   "metadata": {},
   "outputs": [],
   "source": [
    "# p.132 문제\n",
    "\n",
    "def function_2(x):\n",
    "    return x[0]**2 + x[1]**2\n",
    "\n",
    "init _x = np.array([-3.0, 4.0])\n",
    "gradient_desceent(function_2, init_x=init_x, 1r=0.1, step_num=100)\n",
    "\n",
    "\n",
    "# 학습률이 너무 큰 예: lr=10.0 \n",
    "\n",
    "init_x = np.array([-3.0, 4.0])\n",
    "gradient_descent(function_2, init_x=init_x, lr=10.0, step_num=100)\n",
    "\n",
    "\n",
    "# 학습률이 너무 작은 예: lr=1e-10 \n",
    "\n",
    "init_x = np.array([-3.0, 4.0]) \n",
    "gradient_desceent(function_2, init_x=init_x, lr=1e-10, step_num=100)"
   ]
  },
  {
   "cell_type": "code",
   "execution_count": null,
   "id": "135cac7d",
   "metadata": {},
   "outputs": [],
   "source": [
    "# 기울기를 구하는 코드\n",
    "\n",
    "import sys, os \n",
    "sys.path.append(os.pardir) \n",
    "import numpy as np f\n",
    "rom common.functions import softmax, cross _entropy_error \n",
    "from common.gradient import numerical_gradient\n",
    "\n",
    "class simpleNet:\n",
    "    def __init__(self):\n",
    "        self.W = np.random.randn(2,3) # 정규분포로 초기화\n",
    "        \n",
    "    def predict(self, x):\n",
    "        return np.dot(x, self.W)\n",
    "    \n",
    "    def loss(self, x, t):\n",
    "        z = self.predict(x)\n",
    "        y = softmax(z)\n",
    "        loss = cross_entropy_error(y, t)\n",
    "        \n",
    "        return loss"
   ]
  },
  {
   "cell_type": "code",
   "execution_count": null,
   "id": "88b6e62b",
   "metadata": {},
   "outputs": [],
   "source": [
    "net = simpleNet()\n",
    "print(net.W)    # 가중치 매개변수\n",
    "\n",
    "x = np.array([0.6, 0.9])\n",
    "p = net.predict(x)\n",
    "print(p)\n",
    "\n",
    "np.argmax(p)    # 최댓값의 인덱스\n",
    "\n",
    "t = np.array([0, 0. 1])    # 정답 레이블\n",
    "net.loss(x, t)"
   ]
  },
  {
   "cell_type": "code",
   "execution_count": null,
   "id": "46072907",
   "metadata": {},
   "outputs": [],
   "source": [
    "def f(W):\n",
    "    return net.loss(x, t) \n",
    "\n",
    "dW = numerical_gradient(f, net.W) \n",
    "print(dW)"
   ]
  },
  {
   "cell_type": "code",
   "execution_count": null,
   "id": "3e689204",
   "metadata": {},
   "outputs": [],
   "source": [
    "f = lambda w: net.loss(x, t)\n",
    "dW = numerical_gradient(f, net.W)"
   ]
  },
  {
   "cell_type": "markdown",
   "id": "5c5c609f",
   "metadata": {},
   "source": [
    "학습 알고리즘 구현하기\n",
    "\n",
    "\n",
    "- 전제\n",
    "신경망에는 적응 가능한 가중치와 편향이 있고, 이 가중치와 편향을 훈련 데이터에 적응하도록 조정하는 과정 을 '학습'이라 합니다. 신경망 학습은 다음과 같이 4단계로 수행합니다. \n",
    "\n",
    "- 1단계 - 미니배치 \n",
    "훈련 데이터 중 일부를 무작위로 가져옵니다. 이렇게 선별한 데이터를 미니배치라 하며, 그 미니배치의 손실 함수 값을 줄이는 것이 목표입니다.\n",
    "\n",
    "- 2단계 - 기울기 산출 \n",
    "미니배치의 손실 함수 값을 줄이기 위해 각 가중치 매개변수의 기울기를 구합니다. 기울기는 손실 함수의 값 을 가장 작게 하는 방향을 제시합니다. \n",
    "\n",
    "- 3단계 - 매개변수 갱신 \n",
    "가중치 매개변수를 기울기 방향으로 아주 조금 갱신합니다.\n",
    "\n",
    "- 4단계 - 반복 \n",
    "1~3단계를 반복합니다.\n",
    "\n",
    "\n",
    "이는 경사 하강법으로 매개변수를 갱신하는 방법 이며, 이때 데이터를 미니배치로 무작위로 선정하기 때문에 '확률적 경사 하강법' 이라고 부른다. "
   ]
  },
  {
   "cell_type": "code",
   "execution_count": null,
   "id": "0787cbc2",
   "metadata": {},
   "outputs": [],
   "source": [
    "# 2층 신경망 클래스 구현\n",
    "\n",
    "import sys, os \n",
    "sys.path, append(os.pardir) \n",
    "from common. functions impor *\n",
    "from common.gradient import numerical _gradient \n",
    "\n",
    "class TwoLayerNet:\n",
    "    def__init__(self, input_size, hidden_size, output_size, weight _init_std=0.01):\n",
    "        # 가중치 초기화 \n",
    "        self. params = {}\n",
    "        self params['W1'] = weight_init_std *\n",
    "                            np.random.randn(input _size, hidden_size) \n",
    "        self.params ['b1'] = np.zeros(hidden size) \n",
    "        self.params ['W2'] = weight_init_std *\n",
    "                             np.random.randn(hidden _size, output_size) \n",
    "        self.params['b2'] = np.zeros(output_size)\n",
    "        \n",
    "    def predict(self, x):\n",
    "        W1 , W2 = self.params['W1'], self.params['W2']\n",
    "        b1, b2 = self.params['b1'], self.params['b2'] \n",
    "        \n",
    "        a1 = np.dot(x, W1) + b1 \n",
    "        z1 = sigmoid(a1) \n",
    "        a2 = np.dot(z1, W2) + b2 \n",
    "        y = softmax(a2) \n",
    "        return y \n",
    "    \n",
    "    # x: 입력 데이터, t: 정답 레이블 \n",
    "    def loss(self, x, t): \n",
    "        y = self.predict(x) \n",
    "        \n",
    "        return cross_entropy_error(y, t) \n",
    "    \n",
    "    def accuracy(self, x, t): \n",
    "        y = self.predict(x) \n",
    "        y = np.argmax(y, axis=1) \n",
    "        t = np.argmax(t, axis=1) \n",
    "        \n",
    "        accuracy = np.sum(y == t) / float(x.shape[0]) \n",
    "        return accuracy \n",
    "    \n",
    "    # x: 입력 데이터, t: 정답 레이블 \n",
    "    def numerical_gradient(self, x, t): \n",
    "        loss_W = lambda_W: self.loss(x, t) \n",
    "            \n",
    "        grads = {} \n",
    "        grads['W1'] = numerical_gradient(loss _W, self.params['W1'])\n",
    "        grads['b1'] = numerical_gradient(loss _W, self.params['b1']) \n",
    "        grads['W2'] = numerical_gradient(loss_W, self.params['W2']) \n",
    "        grads['b2'] = numerical_gradient(loss_W, self.params['b2']) \n",
    "        \n",
    "        return grads"
   ]
  },
  {
   "cell_type": "markdown",
   "id": "3cf89f39",
   "metadata": {},
   "source": [
    "params: 신경망의 매개변수를 보관하는 딕셔너리 변수(인스턴스 변수) \n",
    "\n",
    "grads: 기울기 보관하는 딕셔너리 변수(numerical_ gradient0 메서드의 반환 값)\n",
    "\n",
    "__init__(self, input_size, hiden_size, output_size): 초기화를 수행한다. \n",
    "인수는 순서대로 입력층의 뉴런 수, 은닉층의 뉴런 수, 출력층의 뉴런 수 \n",
    "\n",
    "predict(self, x): 예측(추론)을 수행한다. \n",
    "인수 x는 이미지 데이터 \n",
    "\n",
    "loss(self, x, t): 손실 함수의 값을 구한다. \n",
    "인수 x는 이미지 데이터, t는 정답 레이블(아래 칸의 세 메서드의 인수들도 마찬 가지) \n",
    "\n",
    "accuracy(self,x, t): 정확도를 구한다. \n",
    "\n",
    "numerical_gradient(self, x, t): 가중치 매개변수의 기울기를 구한다. \n",
    "\n",
    "gradient(self, x, t): 가중치 매개변수의 기울기를 구한다."
   ]
  },
  {
   "cell_type": "code",
   "execution_count": null,
   "id": "f5f8c35f",
   "metadata": {},
   "outputs": [],
   "source": [
    "net = TwoLayerNet(irput_size=784, hidden_size=100, output_size=10) \n",
    "net.params['W1'].shape    # (784, 100) \n",
    "net.params['b1'].shape    # (100,) \n",
    "net.params['W2'].shape    # (100, 10) \n",
    "net.params['b2'].shape    # (10,)"
   ]
  },
  {
   "cell_type": "code",
   "execution_count": null,
   "id": "1d85fa87",
   "metadata": {},
   "outputs": [],
   "source": [
    "x = np.random.rand(100, 784)    # 더미 입력 데이터(100장 분량) \n",
    "y = net.predict(x)"
   ]
  },
  {
   "cell_type": "code",
   "execution_count": null,
   "id": "91ea0079",
   "metadata": {},
   "outputs": [],
   "source": [
    "x = np.random.rand(100, 784)    # 더미 입력 데이터(100장 분량) \n",
    "t = np.random.rand(100, 10)    # 더미 정답 레이블(100장 분량) \n",
    "\n",
    "grads = net.numerical_gradient(x, t)    # 기울기 계산 \n",
    "\n",
    "grads['W1'].shape    # (784, 100) \n",
    "grads['b1'].shape    # (100,) \n",
    "grads['W2'].shape    # (100, 10) \n",
    "grads['b2'].shape    # (10,)"
   ]
  },
  {
   "cell_type": "code",
   "execution_count": null,
   "id": "8c30e0a8",
   "metadata": {},
   "outputs": [],
   "source": [
    "# 시험 데이터로 평가하기 구현\n",
    "\n",
    "import numpy as np \n",
    "from dataset.mnist import load_mnist \n",
    "from two_layer_net import TwoLayerNet \n",
    "(x_train, t_train), (x_test, t_test) =  \n",
    "   load_mnist(normalize=True, one_hot_label=True)\n",
    "\n",
    "network = TwoLayerNet(input_size=784, hidden_size=50, output_size=10) \n",
    "\n",
    "# 하이퍼파라미터 \n",
    "iters_num = 10000    # 반복 횟수 설정 \n",
    "train_size = x_train.shape[0] \n",
    "batch_size = 100    # 미니배치 크기\n",
    "learning_rate = 0.1 \n",
    "\n",
    "train_loss_list = [] \n",
    "train_acc_list = [] \n",
    "test_acc_list = [] \n",
    "\n",
    "# 1에폭당 반복 수 \n",
    "iter_per_epoch = max(train_size / batch_size, 1)\n",
    "\n",
    "for i in range(iters_num): \n",
    "    # 미니배치 획득 \n",
    "    batch_mask = np.random.choice(train_size, batch_size) \n",
    "    x_batch = x_train[batch_mask] \n",
    "    t_batch = t_train[batch_mask] \n",
    "    \n",
    "    # 기울기 계산 \n",
    "    grad = network.numerical_gradient(x_batch, t_batch) \n",
    "    # grad = network.gradient(x_batch, t_batch) # 성능 개선판! \n",
    "    \n",
    "    # 매개변수 갱신 \n",
    "    for key in ('W1', 'b1', 'W2', 'b2'):\n",
    "        network.params[key] -= learning_rate * grad[key] \n",
    "    \n",
    "    # 학습 경과 기록 \n",
    "    loss = network.loss(x_batch, t_batch) \n",
    "    train_loss_list.append(loss)\n",
    "    \n",
    "    # 1에폭당 정확도 계산 \n",
    "    if i % iter_per_epoch == 0 : \n",
    "        train_acc = network.accuracy(x_train, t_train) \n",
    "        test_acc = network.accuracy(x_test, t_test) \n",
    "        train_acc_list.append(train_acc) \n",
    "        test_acc_list.append(test_acc) \n",
    "        print(\"train acc, test acc I \" + str(train_acc) +  \", \" + str(test_acc))"
   ]
  },
  {
   "cell_type": "code",
   "execution_count": null,
   "id": "6571364a",
   "metadata": {},
   "outputs": [],
   "source": []
  },
  {
   "cell_type": "code",
   "execution_count": null,
   "id": "b01879d3",
   "metadata": {},
   "outputs": [],
   "source": []
  },
  {
   "cell_type": "code",
   "execution_count": null,
   "id": "cf59b877",
   "metadata": {},
   "outputs": [],
   "source": []
  },
  {
   "cell_type": "code",
   "execution_count": null,
   "id": "163ef2a5",
   "metadata": {},
   "outputs": [],
   "source": []
  },
  {
   "cell_type": "code",
   "execution_count": null,
   "id": "a3e6ec8d",
   "metadata": {},
   "outputs": [],
   "source": []
  },
  {
   "cell_type": "code",
   "execution_count": null,
   "id": "1e347c49",
   "metadata": {},
   "outputs": [],
   "source": []
  },
  {
   "cell_type": "code",
   "execution_count": null,
   "id": "7409554b",
   "metadata": {},
   "outputs": [],
   "source": []
  },
  {
   "cell_type": "code",
   "execution_count": null,
   "id": "f3687d90",
   "metadata": {},
   "outputs": [],
   "source": []
  },
  {
   "cell_type": "code",
   "execution_count": null,
   "id": "5efa6ad3",
   "metadata": {},
   "outputs": [],
   "source": []
  }
 ],
 "metadata": {
  "kernelspec": {
   "display_name": "Python 3 (ipykernel)",
   "language": "python",
   "name": "python3"
  },
  "language_info": {
   "codemirror_mode": {
    "name": "ipython",
    "version": 3
   },
   "file_extension": ".py",
   "mimetype": "text/x-python",
   "name": "python",
   "nbconvert_exporter": "python",
   "pygments_lexer": "ipython3",
   "version": "3.10.5"
  }
 },
 "nbformat": 4,
 "nbformat_minor": 5
}
